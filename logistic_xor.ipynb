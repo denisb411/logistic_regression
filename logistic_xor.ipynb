{
 "cells": [
  {
   "cell_type": "code",
   "execution_count": 3,
   "metadata": {},
   "outputs": [
    {
     "data": {
      "image/png": "[encoded data removed]",
      "text/plain": [
       "<matplotlib.figure.Figure at 0x254855c0a90>"
      ]
     },
     "metadata": {},
     "output_type": "display_data"
    }
   ],
   "source": [
    "import numpy as np\n",
    "import matplotlib.pyplot as plt\n",
    "\n",
    "N = 4\n",
    "D = 2\n",
    "\n",
    "X = np.array([\n",
    "    [0,0],\n",
    "    [0,1],\n",
    "    [1,0],\n",
    "    [1,1]\n",
    "])\n",
    "T = np.array([0,1,1,0])\n",
    "\n",
    "plt.scatter(X[:,0], X[:,1], c=T)\n",
    "plt.show()"
   ]
  },
  {
   "cell_type": "code",
   "execution_count": 6,
   "metadata": {},
   "outputs": [
    {
     "name": "stdout",
     "output_type": "stream",
     "text": [
      "3.26651393063\n",
      "2.66539845396\n",
      "2.44201309423\n",
      "2.27759608576\n",
      "2.1446457362\n",
      "2.03268424975\n",
      "1.93553816191\n",
      "1.84939223699\n",
      "1.77181379646\n",
      "1.70119187997\n",
      "1.63641234498\n",
      "1.57666827903\n",
      "1.52134814941\n",
      "1.46996889505\n",
      "1.42213522831\n",
      "1.37751437604\n",
      "1.33582001639\n",
      "1.29680176103\n",
      "1.26023803036\n",
      "1.22593104116\n",
      "1.19370313762\n",
      "1.16339399914\n",
      "1.13485843808\n",
      "1.10796460864\n",
      "1.08259251301\n",
      "1.05863273092\n",
      "1.03598532296\n",
      "1.01455887345\n",
      "0.994269648366\n",
      "0.975040850118\n",
      "0.956801955075\n",
      "0.939488122804\n",
      "0.923039667859\n",
      "0.90740158657\n",
      "0.89252313237\n",
      "0.878357434155\n",
      "0.864861152847\n",
      "0.85199417198\n",
      "0.839719318624\n",
      "0.828002111389\n",
      "0.81681053265\n",
      "0.806114822443\n",
      "0.795887291776\n",
      "0.786102153364\n",
      "0.776735367986\n",
      "0.767764504899\n",
      "0.75916861488\n",
      "0.75092811465\n",
      "0.74302468154\n",
      "0.735441157411\n"
     ]
    },
    {
     "data": {
      "image/png": "[encoded data removed]",
      "text/plain": [
       "<matplotlib.figure.Figure at 0x25485aaa8d0>"
      ]
     },
     "metadata": {},
     "output_type": "display_data"
    },
    {
     "name": "stdout",
     "output_type": "stream",
     "text": [
      "Final W: [-1.18593446 -6.62124081  2.8497639   2.84978486]\n",
      "Final classification rate: 1.0\n"
     ]
    }
   ],
   "source": [
    "ones = np.array([[1]*N]).T\n",
    "\n",
    "xy = np.matrix(X[:,0] * X[:,1]).T\n",
    "Xb = np.array(np.concatenate((ones, xy, X), axis=1))\n",
    "\n",
    "w = np.random.rand(D+2)\n",
    "\n",
    "z = Xb.dot(w)\n",
    "\n",
    "def sigmoid(z):\n",
    "    return 1/(1 + np.exp(-z))\n",
    "\n",
    "Y = sigmoid(z)\n",
    "\n",
    "def cross_entropy(T, Y):\n",
    "    E = 0\n",
    "    for i in range(N):\n",
    "        if T[i] == 1:\n",
    "            E -= np.log(Y[i])\n",
    "        else:\n",
    "            E -= np.log(1 - Y[i])\n",
    "    return E\n",
    "\n",
    "learning_rate = 0.01\n",
    "error = []\n",
    "\n",
    "for i in range(5000):\n",
    "    e = cross_entropy(T, Y)\n",
    "    error.append(e)\n",
    "    if i % 100 == 0:\n",
    "        print(e)\n",
    "        \n",
    "    w += learning_rate * (np.dot((T-Y).T, Xb) - 0.01*w)\n",
    "    \n",
    "    Y = sigmoid(Xb.dot(w))\n",
    "    \n",
    "plt.plot(error)\n",
    "plt.show()\n",
    "\n",
    "print(\"Final W:\", w)\n",
    "print(\"Final classification rate:\", 1 - np.abs(T - np.round(Y)).sum() / N)"
   ]
  },
  {
   "cell_type": "code",
   "execution_count": null,
   "metadata": {
    "collapsed": true
   },
   "outputs": [],
   "source": []
  },
  {
   "cell_type": "code",
   "execution_count": null,
   "metadata": {
    "collapsed": true
   },
   "outputs": [],
   "source": []
  },
  {
   "cell_type": "code",
   "execution_count": null,
   "metadata": {
    "collapsed": true
   },
   "outputs": [],
   "source": []
  },
  {
   "cell_type": "code",
   "execution_count": null,
   "metadata": {
    "collapsed": true
   },
   "outputs": [],
   "source": []
  },
  {
   "cell_type": "code",
   "execution_count": null,
   "metadata": {
    "collapsed": true
   },
   "outputs": [],
   "source": []
  }
 ],
 "metadata": {
  "kernelspec": {
   "display_name": "Python 3",
   "language": "python",
   "name": "python3"
  },
  "language_info": {
   "codemirror_mode": {
    "name": "ipython",
    "version": 3
   },
   "file_extension": ".py",
   "mimetype": "text/x-python",
   "name": "python",
   "nbconvert_exporter": "python",
   "pygments_lexer": "ipython3",
   "version": "3.6.1"
  }
 },
 "nbformat": 4,
 "nbformat_minor": 2
}
