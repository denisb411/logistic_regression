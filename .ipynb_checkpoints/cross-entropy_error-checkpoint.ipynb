{
 "cells": [
  {
   "cell_type": "code",
   "execution_count": 66,
   "metadata": {},
   "outputs": [],
   "source": [
    "import numpy as np\n",
    "\n",
    "N = 100\n",
    "D = 2\n",
    "\n",
    "X = np.random.randn(N,D)\n",
    "\n",
    "X[:50,:] = X[:50,:] - 2*np.ones((50,D))\n",
    "X[50:,:] = X[50:,:] + 2*np.ones((50,D))\n",
    "\n",
    "T = np.array([0]*50 + [1]*50)\n",
    "\n",
    "ones = np.array([[1]*N]).T\n",
    "Xb = np.concatenate((ones, X), axis=1)"
   ]
  },
  {
   "cell_type": "code",
   "execution_count": 67,
   "metadata": {},
   "outputs": [],
   "source": [
    "w = np.random.randn(D + 1)\n",
    "\n",
    "z = Xb.dot(w)\n",
    "\n",
    "def sigmoid(z):\n",
    "    return 1/(1 + np.exp(-z))\n",
    "\n",
    "Y = sigmoid(z)"
   ]
  },
  {
   "cell_type": "code",
   "execution_count": 68,
   "metadata": {},
   "outputs": [
    {
     "data": {
      "text/plain": [
       "327.63860416456822"
      ]
     },
     "execution_count": 68,
     "metadata": {},
     "output_type": "execute_result"
    }
   ],
   "source": [
    "def cross_entropy(T, Y):\n",
    "    E = 0\n",
    "    for i in range(N):\n",
    "        if T[i] == 1:\n",
    "            E -= np.log(Y[i])\n",
    "        else:\n",
    "            E -= np.log(1 - Y[i])\n",
    "    return E\n",
    "cross_entropy(T, Y)"
   ]
  },
  {
   "cell_type": "code",
   "execution_count": 69,
   "metadata": {},
   "outputs": [
    {
     "data": {
      "text/plain": [
       "0.051102886097569376"
      ]
     },
     "execution_count": 69,
     "metadata": {},
     "output_type": "execute_result"
    }
   ],
   "source": [
    "#the solution weights\n",
    "w = np.array([0,4,4])\n",
    "\n",
    "z = Xb.dot(w)\n",
    "Y = sigmoid(z)\n",
    "\n",
    "cross_entropy(T, Y)"
   ]
  },
  {
   "cell_type": "code",
   "execution_count": 70,
   "metadata": {},
   "outputs": [
    {
     "name": "stdout",
     "output_type": "stream",
     "text": [
      "0.0511028860976\n",
      "2.73548530203e-07\n",
      "2.73548448602e-07\n",
      "2.73548367e-07\n",
      "2.73548285621e-07\n",
      "2.73548203908e-07\n",
      "2.73548122307e-07\n",
      "2.73548040706e-07\n",
      "2.73547959326e-07\n",
      "2.73547877725e-07\n",
      "Final w: [  0.48078461  15.61167005  15.33616777]\n"
     ]
    }
   ],
   "source": [
    "w = np.random.randn(D + 1)\n",
    "#finding solution with gradient descent\n",
    "learning_rate = 0.1\n",
    "for i in range(100):\n",
    "    if i % 10 == 0:\n",
    "        print(cross_entropy(T, Y))\n",
    "        \n",
    "    # dJ/dwi = XT(Y - T)\n",
    "    w += learning_rate * Xb.T.dot(T - Y)\n",
    "    Y = sigmoid(Xb.dot(w))\n",
    "    \n",
    "print(\"Final w:\", w)"
   ]
  },
  {
   "cell_type": "markdown",
   "metadata": {},
   "source": [
    "## With L2 Regularization ##"
   ]
  },
  {
   "cell_type": "code",
   "execution_count": 72,
   "metadata": {},
   "outputs": [
    {
     "name": "stdout",
     "output_type": "stream",
     "text": [
      "2.73547796123e-07\n",
      "2.64103414158e-08\n",
      "1.54132460659e-07\n",
      "7.64298710788e-07\n",
      "3.26868795837e-06\n",
      "1.22214290632e-05\n",
      "4.04461334463e-05\n",
      "0.000119820836756\n",
      "0.000321032025405\n",
      "0.000785197115453\n",
      "Final w: [-0.18593511  6.90549586  7.16441286]\n"
     ]
    }
   ],
   "source": [
    "w = np.random.randn(D + 1)\n",
    "#finding solution with gradient descent\n",
    "learning_rate = 0.1\n",
    "for i in range(100):\n",
    "    if i % 10 == 0:\n",
    "        print(cross_entropy(T, Y))\n",
    "        \n",
    "    # dJ/dwi = XT(Y - T)\n",
    "    w += learning_rate * (np.dot((T - Y).T, Xb) - 0.1*w)\n",
    "    Y = sigmoid(Xb.dot(w))\n",
    "    \n",
    "print(\"Final w:\", w)"
   ]
  }
 ],
 "metadata": {
  "kernelspec": {
   "display_name": "Python 3",
   "language": "python",
   "name": "python3"
  },
  "language_info": {
   "codemirror_mode": {
    "name": "ipython",
    "version": 3
   },
   "file_extension": ".py",
   "mimetype": "text/x-python",
   "name": "python",
   "nbconvert_exporter": "python",
   "pygments_lexer": "ipython3",
   "version": "3.6.1"
  }
 },
 "nbformat": 4,
 "nbformat_minor": 2
}
